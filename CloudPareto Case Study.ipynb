{
 "cells": [
  {
   "cell_type": "markdown",
   "id": "d316525a",
   "metadata": {},
   "source": [
    "## CloudPareto Case Study: Recommendation Engine for Sellers"
   ]
  },
  {
   "cell_type": "markdown",
   "id": "627df047",
   "metadata": {},
   "source": [
    "CloudPareto’s product portfolio supports two kinds of users: buyers and sellers. Our first product (Product B) provides a way for buyers to purchase items while our second product (Product S) allows sellers to identify new ways to pitch to the buyers. Product S is a social media type platform that allows sellers to:\n",
    "\n",
    "- Post and interact with posts from other sellers as well as buyers\n",
    "- Message other buyers and sellers\n",
    "- Partner with other sellers to create stronger sales pitches\n",
    "- Search for buyer requirements\n",
    "- Connect directly to Product B to submit ideas directly to buyers\n",
    "\n",
    "One of the ways the Analytics Team will support Product S is through building recommendation systems to provide users with more actionable insights.\n",
    "\n",
    "For this case, you have been provided a list of seller posts that can be found in the Product S product feed. This information includes the Seller ID, the date of the post, the seller’s state, and the post text. We would like you to build a model to help sellers identify other sellers that they may want to partner with based on the post information.\n",
    "\n",
    "During the case interview, you will be asked to discuss/show:\n",
    "- Approach and why you chose it\n",
    "- Insights gathered from the exercise\n",
    "- What additional data elements you would consider to improve model accuracy\n",
    "- Code (it will not be evaluated on cleanliness or production readiness)\n",
    "\n",
    "We recognize this is a limited dataset. Our aim is not to have you develop a model with high accuracy in this short period but rather see your approach. Please spend no more than 3 hours on this."
   ]
  },
  {
   "cell_type": "markdown",
   "id": "c0f83858",
   "metadata": {},
   "source": [
    "## Raw Data Analysis"
   ]
  },
  {
   "cell_type": "code",
   "execution_count": 180,
   "id": "804d3f61",
   "metadata": {},
   "outputs": [],
   "source": [
    "# Import Libraries\n",
    "import pandas as pd\n",
    "import numpy as np \n",
    "import seaborn as sns\n",
    "import matplotlib.pyplot as plt\n",
    "\n",
    "# Upload data to dataframe (df)\n",
    "df = pd.read_excel('CloudPareto_L3_DS_Case.xlsx')  "
   ]
  },
  {
   "cell_type": "code",
   "execution_count": 181,
   "id": "7f8832db",
   "metadata": {},
   "outputs": [
    {
     "data": {
      "text/html": [
       "<div>\n",
       "<style scoped>\n",
       "    .dataframe tbody tr th:only-of-type {\n",
       "        vertical-align: middle;\n",
       "    }\n",
       "\n",
       "    .dataframe tbody tr th {\n",
       "        vertical-align: top;\n",
       "    }\n",
       "\n",
       "    .dataframe thead th {\n",
       "        text-align: right;\n",
       "    }\n",
       "</style>\n",
       "<table border=\"1\" class=\"dataframe\">\n",
       "  <thead>\n",
       "    <tr style=\"text-align: right;\">\n",
       "      <th></th>\n",
       "      <th>SellerID</th>\n",
       "      <th>PostDate</th>\n",
       "      <th>StateName</th>\n",
       "      <th>PostText</th>\n",
       "    </tr>\n",
       "  </thead>\n",
       "  <tbody>\n",
       "    <tr>\n",
       "      <th>0</th>\n",
       "      <td>Seller1</td>\n",
       "      <td>2021-11-04</td>\n",
       "      <td>Louisiana</td>\n",
       "      <td>We specialize in the identification, effective...</td>\n",
       "    </tr>\n",
       "    <tr>\n",
       "      <th>1</th>\n",
       "      <td>Seller2</td>\n",
       "      <td>2022-01-14</td>\n",
       "      <td>Maine</td>\n",
       "      <td>We currently supply systems to FAA, TSA, and D...</td>\n",
       "    </tr>\n",
       "    <tr>\n",
       "      <th>2</th>\n",
       "      <td>Seller3</td>\n",
       "      <td>2021-07-14</td>\n",
       "      <td>New Mexico</td>\n",
       "      <td>Our mission is to engineer high-quality, innov...</td>\n",
       "    </tr>\n",
       "    <tr>\n",
       "      <th>3</th>\n",
       "      <td>Seller4</td>\n",
       "      <td>2022-01-08</td>\n",
       "      <td>Tennessee</td>\n",
       "      <td>We are a certified woman-owned small business ...</td>\n",
       "    </tr>\n",
       "    <tr>\n",
       "      <th>4</th>\n",
       "      <td>Seller5</td>\n",
       "      <td>2021-07-26</td>\n",
       "      <td>Ohio</td>\n",
       "      <td>We have been providing Federal Government cust...</td>\n",
       "    </tr>\n",
       "  </tbody>\n",
       "</table>\n",
       "</div>"
      ],
      "text/plain": [
       "  SellerID   PostDate   StateName  \\\n",
       "0  Seller1 2021-11-04   Louisiana   \n",
       "1  Seller2 2022-01-14       Maine   \n",
       "2  Seller3 2021-07-14  New Mexico   \n",
       "3  Seller4 2022-01-08   Tennessee   \n",
       "4  Seller5 2021-07-26        Ohio   \n",
       "\n",
       "                                            PostText  \n",
       "0  We specialize in the identification, effective...  \n",
       "1  We currently supply systems to FAA, TSA, and D...  \n",
       "2  Our mission is to engineer high-quality, innov...  \n",
       "3  We are a certified woman-owned small business ...  \n",
       "4  We have been providing Federal Government cust...  "
      ]
     },
     "execution_count": 181,
     "metadata": {},
     "output_type": "execute_result"
    }
   ],
   "source": [
    "# Data Overview\n",
    "df.head()"
   ]
  },
  {
   "cell_type": "code",
   "execution_count": 182,
   "id": "2d0e4381",
   "metadata": {},
   "outputs": [
    {
     "name": "stdout",
     "output_type": "stream",
     "text": [
      "<class 'pandas.core.frame.DataFrame'>\n",
      "RangeIndex: 60 entries, 0 to 59\n",
      "Data columns (total 4 columns):\n",
      " #   Column     Non-Null Count  Dtype         \n",
      "---  ------     --------------  -----         \n",
      " 0   SellerID   60 non-null     object        \n",
      " 1   PostDate   60 non-null     datetime64[ns]\n",
      " 2   StateName  60 non-null     object        \n",
      " 3   PostText   60 non-null     object        \n",
      "dtypes: datetime64[ns](1), object(3)\n",
      "memory usage: 2.0+ KB\n"
     ]
    }
   ],
   "source": [
    "# Data Overview\n",
    "df.info()"
   ]
  },
  {
   "cell_type": "code",
   "execution_count": 183,
   "id": "835637a6",
   "metadata": {
    "scrolled": true
   },
   "outputs": [
    {
     "data": {
      "image/png": "[encoded data removed]",
      "text/plain": [
       "<Figure size 864x288 with 1 Axes>"
      ]
     },
     "metadata": {
      "needs_background": "light"
     },
     "output_type": "display_data"
    }
   ],
   "source": [
    "# Data Overview\n",
    "df['StateName'].value_counts()[0:10].plot(kind='barh', figsize=[12,4], fontsize=12, color='green').invert_yaxis()"
   ]
  },
  {
   "cell_type": "markdown",
   "id": "1750ac48",
   "metadata": {},
   "source": [
    "## Data Preprocessing"
   ]
  },
  {
   "cell_type": "code",
   "execution_count": 187,
   "id": "47b395e9",
   "metadata": {},
   "outputs": [],
   "source": [
    "# Extract keywords from df (removes stopwords)\n",
    "r = Rake()    \n",
    "\n",
    "def rake_implement(x,r):\n",
    "    r.extract_keywords_from_text(x)\n",
    "    return r.get_ranked_phrases()\n",
    "\n",
    "df['CleanedText'] =df['PostText'].apply(lambda x: rake_implement(x,r))\n",
    "df['StringText']=df['CleanedText'].apply(lambda x: ' '.join(map(str, x)))"
   ]
  },
  {
   "cell_type": "code",
   "execution_count": 188,
   "id": "82a8244f",
   "metadata": {},
   "outputs": [
    {
     "data": {
      "image/png": "[encoded data removed]",
      "text/plain": [
       "<Figure size 432x288 with 1 Axes>"
      ]
     },
     "metadata": {
      "needs_background": "light"
     },
     "output_type": "display_data"
    }
   ],
   "source": [
    "# View Most Common Terms among Seller Posts \n",
    "from collections import Counter\n",
    "term_counts = Counter()\n",
    "df['CleanedText'].apply(term_counts.update)\n",
    "\n",
    "a = term_counts.most_common(20)\n",
    "word_counts = [[ i for i, j in a ],\n",
    "       [ j for i, j in a ]]\n",
    "keys = word_counts[0]\n",
    "values = word_counts[1]\n",
    "plt.bar(keys, values)\n",
    "plt.xticks(rotation = 90)\n",
    "plt.show()"
   ]
  },
  {
   "cell_type": "code",
   "execution_count": 189,
   "id": "7db7da18",
   "metadata": {},
   "outputs": [
    {
     "data": {
      "text/html": [
       "<div>\n",
       "<style scoped>\n",
       "    .dataframe tbody tr th:only-of-type {\n",
       "        vertical-align: middle;\n",
       "    }\n",
       "\n",
       "    .dataframe tbody tr th {\n",
       "        vertical-align: top;\n",
       "    }\n",
       "\n",
       "    .dataframe thead th {\n",
       "        text-align: right;\n",
       "    }\n",
       "</style>\n",
       "<table border=\"1\" class=\"dataframe\">\n",
       "  <thead>\n",
       "    <tr style=\"text-align: right;\">\n",
       "      <th></th>\n",
       "      <th>SellerID</th>\n",
       "      <th>PostDate</th>\n",
       "      <th>StateName</th>\n",
       "      <th>PostText</th>\n",
       "      <th>StringText</th>\n",
       "    </tr>\n",
       "  </thead>\n",
       "  <tbody>\n",
       "    <tr>\n",
       "      <th>0</th>\n",
       "      <td>Seller1</td>\n",
       "      <td>2021-11-04</td>\n",
       "      <td>Louisiana</td>\n",
       "      <td>We specialize in the identification, effective...</td>\n",
       "      <td>provide truly unique advice programmatic staff...</td>\n",
       "    </tr>\n",
       "    <tr>\n",
       "      <th>1</th>\n",
       "      <td>Seller2</td>\n",
       "      <td>2022-01-14</td>\n",
       "      <td>Maine</td>\n",
       "      <td>We currently supply systems to FAA, TSA, and D...</td>\n",
       "      <td>custom medical device solutions worlds largest...</td>\n",
       "    </tr>\n",
       "    <tr>\n",
       "      <th>2</th>\n",
       "      <td>Seller3</td>\n",
       "      <td>2021-07-14</td>\n",
       "      <td>New Mexico</td>\n",
       "      <td>Our mission is to engineer high-quality, innov...</td>\n",
       "      <td>devops consulting services generation software...</td>\n",
       "    </tr>\n",
       "    <tr>\n",
       "      <th>3</th>\n",
       "      <td>Seller4</td>\n",
       "      <td>2022-01-08</td>\n",
       "      <td>Tennessee</td>\n",
       "      <td>We are a certified woman-owned small business ...</td>\n",
       "      <td>owned small business founded staffing solution...</td>\n",
       "    </tr>\n",
       "    <tr>\n",
       "      <th>4</th>\n",
       "      <td>Seller5</td>\n",
       "      <td>2021-07-26</td>\n",
       "      <td>Ohio</td>\n",
       "      <td>We have been providing Federal Government cust...</td>\n",
       "      <td>providing federal government customers busines...</td>\n",
       "    </tr>\n",
       "  </tbody>\n",
       "</table>\n",
       "</div>"
      ],
      "text/plain": [
       "  SellerID   PostDate   StateName  \\\n",
       "0  Seller1 2021-11-04   Louisiana   \n",
       "1  Seller2 2022-01-14       Maine   \n",
       "2  Seller3 2021-07-14  New Mexico   \n",
       "3  Seller4 2022-01-08   Tennessee   \n",
       "4  Seller5 2021-07-26        Ohio   \n",
       "\n",
       "                                            PostText  \\\n",
       "0  We specialize in the identification, effective...   \n",
       "1  We currently supply systems to FAA, TSA, and D...   \n",
       "2  Our mission is to engineer high-quality, innov...   \n",
       "3  We are a certified woman-owned small business ...   \n",
       "4  We have been providing Federal Government cust...   \n",
       "\n",
       "                                          StringText  \n",
       "0  provide truly unique advice programmatic staff...  \n",
       "1  custom medical device solutions worlds largest...  \n",
       "2  devops consulting services generation software...  \n",
       "3  owned small business founded staffing solution...  \n",
       "4  providing federal government customers busines...  "
      ]
     },
     "execution_count": 189,
     "metadata": {},
     "output_type": "execute_result"
    }
   ],
   "source": [
    "# df cleanup and visualization\n",
    "df = df.drop(columns='CleanedText')\n",
    "df.head()"
   ]
  },
  {
   "cell_type": "markdown",
   "id": "897d608f",
   "metadata": {},
   "source": [
    "## Model Development"
   ]
  },
  {
   "cell_type": "code",
   "execution_count": 190,
   "id": "311ac04d",
   "metadata": {},
   "outputs": [
    {
     "name": "stdout",
     "output_type": "stream",
     "text": [
      "[[1.         0.02037848 0.10700008 ... 0.13696602 0.01644434 0.06906825]\n",
      " [0.02037848 1.         0.07032108 ... 0.04364358 0.         0.03026138]\n",
      " [0.10700008 0.07032108 1.         ... 0.10025608 0.0945756  0.09930727]\n",
      " ...\n",
      " [0.13696602 0.04364358 0.10025608 ... 1.         0.01760902 0.03698001]\n",
      " [0.01644434 0.         0.0945756  ... 0.01760902 1.         0.1709352 ]\n",
      " [0.06906825 0.03026138 0.09930727 ... 0.03698001 0.1709352  1.        ]]\n"
     ]
    }
   ],
   "source": [
    "# Create Model\n",
    "from sklearn.metrics.pairwise import cosine_similarity\n",
    "from sklearn.feature_extraction.text import CountVectorizer\n",
    "\n",
    "count = CountVectorizer()\n",
    "count_matrix = count.fit_transform(df['StringText'])\n",
    "cosine_sim = cosine_similarity(count_matrix, count_matrix)\n",
    "print(cosine_sim)"
   ]
  },
  {
   "cell_type": "code",
   "execution_count": 191,
   "id": "d7c6889f",
   "metadata": {},
   "outputs": [
    {
     "data": {
      "image/png": "[encoded data removed]",
      "text/plain": [
       "<Figure size 1152x720 with 2 Axes>"
      ]
     },
     "metadata": {
      "needs_background": "light"
     },
     "output_type": "display_data"
    }
   ],
   "source": [
    "# Visualize similarities between Sellers' Posts\n",
    "f, ax = plt.subplots(figsize=(16, 10))\n",
    "ax = sns.heatmap(cosine_sim, cmap=\"hot\")\n",
    "plt.show()"
   ]
  },
  {
   "cell_type": "code",
   "execution_count": 192,
   "id": "e406bfe5",
   "metadata": {},
   "outputs": [],
   "source": [
    "# Build function to recommend top 10 Seller Partners for a Seller\n",
    "indices = pd.Series(df['SellerID'])\n",
    "def recommend(sellerid, cosine_sim = cosine_sim):\n",
    "    rec_partners = []\n",
    "    idx = indices[indices == sellerid].index[0]\n",
    "    score_series = pd.Series(cosine_sim[idx]).sort_values(ascending = False)\n",
    "    top_indices = list(score_series.iloc[1:11].index)\n",
    "    \n",
    "    for i in top_indices:\n",
    "        rec_partners.append(list(df['SellerID'])[i])\n",
    "        \n",
    "    return rec_partners"
   ]
  },
  {
   "cell_type": "code",
   "execution_count": 193,
   "id": "e5b6b4dd",
   "metadata": {},
   "outputs": [
    {
     "data": {
      "text/plain": [
       "['Seller9',\n",
       " 'Seller49',\n",
       " 'Seller5',\n",
       " 'Seller37',\n",
       " 'Seller10',\n",
       " 'Seller6',\n",
       " 'Seller58',\n",
       " 'Seller11',\n",
       " 'Seller16',\n",
       " 'Seller15']"
      ]
     },
     "execution_count": 193,
     "metadata": {},
     "output_type": "execute_result"
    }
   ],
   "source": [
    "# Recommend Top Seller Partners for a Seller; Returns Ranked list of closest to least-close match\n",
    "recommend('Seller1')"
   ]
  },
  {
   "cell_type": "markdown",
   "id": "45bd5a5d",
   "metadata": {},
   "source": [
    "## Results & Discussion"
   ]
  },
  {
   "cell_type": "markdown",
   "id": "dca5367b",
   "metadata": {},
   "source": [
    "#### Approach and why you chose it\n",
    "##### Assumptions\n",
    "- Sellers with similar business ventures may want to create partnerships to form a more robust offering, whereas sellers with very different business ventures may not benefit from forming partnerships\n",
    "- Product S is a digital platform and users would want to engage with one another in a digital way. Therefore, physical location is not taken into account in this assessment.\n",
    "- Each Post represents a different Seller, with each Seller coming from a different Company. \n",
    "\n",
    "##### Approach Overview\n",
    "- Create visualizations and data summaries to verify data is clean and gain understanding of data context and components.\n",
    "- Perform NLP cleanup to remove stopwords and retain words of interest to the analysis.\n",
    "- Develop relationship strength matrix for Sellers based on the similarity of posts.\n",
    "- Use sklearn CountVectorizer to create matrix of the count of words per post. \n",
    "- Use cosine_similarity to calculate the similarity of each Seller's post.\n",
    "- Create function to take as input a Seller, and return the top 10 ranked potential Seller partners based on max similarity score.\n",
    "\n",
    "#### Insights gathered from the exercise\n",
    "- There is a relatively low similarity scores between posts. \n",
    "- Many posts describe what a Seller does, but do not necessarily describe what they would be interested in in a sales partnership. We should explore additional posts and features to gain more accurate recommendations (See Below). \n",
    "- Many features are not shared by multiple sellers. We should do additional research/visualization to determine which features are predictive of likely Sales partnerships, and eliminate features which are less valuable from future models via NLP. \n",
    "- To determine the accuracy of our predictions, we will need to collect User Partnership, Platform Engagement, and User Feedback metrics to determine how accurate the current model is. After collecting this information, we can continue to tune our approach, select additional features, and eliminate unneeded features as needed.\n",
    "\n",
    "#### What additional data elements you would consider to improve model accuracy\n",
    "- Noise Reduction (Feature Filtration): Collect additional data on which features and keywords are most predictive of interest in partnerships. Remove unwanted features prior to matching. \n",
    "- Additional Feature Selection: Profile information from each seller to provide additional filtering, features and context. I.e. identifying which Company each Seller comes from, to determine if multiple Posts should be combined under a single Company for analysis purposes. I.e. Information on Industries of Interest (and the Seller's Industry) or target market could provide additional relevant features for analysis.\n",
    "- Model Accuracy: Collect User Partnership, Platform Engagement, and User Feedback metrics to determine how accurate the current model is. Perform data analysis & visualization to understand areas where the model may be weak (underserved Seller markets, unpredicted partnerships, etc.). \n",
    "- Weights: As we collect additional features, we may want to alter the model to account for dynamic weighting of features to ensure more predictive features have a stronger influence on match rankings.\n",
    "- Iterative Development: Use collection of model accuracy data to influence introduction of new features and elimination of noisy features, to continue improving the model."
   ]
  }
 ],
 "metadata": {
  "kernelspec": {
   "display_name": "Python 3",
   "language": "python",
   "name": "python3"
  },
  "language_info": {
   "codemirror_mode": {
    "name": "ipython",
    "version": 3
   },
   "file_extension": ".py",
   "mimetype": "text/x-python",
   "name": "python",
   "nbconvert_exporter": "python",
   "pygments_lexer": "ipython3",
   "version": "3.8.8"
  }
 },
 "nbformat": 4,
 "nbformat_minor": 5
}
